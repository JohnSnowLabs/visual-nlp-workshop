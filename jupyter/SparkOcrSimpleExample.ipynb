{
 "cells": [
  {
   "cell_type": "markdown",
   "metadata": {},
   "source": [
    "# Example of usage Spark OCR"
   ]
  },
  {
   "cell_type": "markdown",
   "metadata": {},
   "source": [
    "## Install spark-ocr python packge\n",
    "Need specify path to `spark-ocr-assembly-[version].jar` or `secret`"
   ]
  },
  {
   "cell_type": "code",
   "execution_count": 1,
   "metadata": {},
   "outputs": [],
   "source": [
    "secret = \"\"\n",
    "license = \"\"\n",
    "version = secret.split(\"-\")[0]\n",
    "spark_ocr_jar_path = \"../../target/scala-2.12\""
   ]
  },
  {
   "cell_type": "markdown",
   "metadata": {},
   "source": [
    "## Initialization of spark session"
   ]
  },
  {
   "cell_type": "code",
   "execution_count": 3,
   "metadata": {},
   "outputs": [
    {
     "name": "stdout",
     "output_type": "stream",
     "text": [
      "Spark version: 3.4.1\n",
      "Spark NLP version: 6.1.1\n",
      "Spark NLP for Healthcare version: 6.1.0\n",
      "Spark OCR version: 6.1.0\n",
      "\n"
     ]
    },
    {
     "data": {
      "text/html": [
       "\n",
       "            <div>\n",
       "                <p><b>SparkSession - in-memory</b></p>\n",
       "                \n",
       "        <div>\n",
       "            <p><b>SparkContext</b></p>\n",
       "\n",
       "            <p><a href=\"http://192.168.0.23:4041\">Spark UI</a></p>\n",
       "\n",
       "            <dl>\n",
       "              <dt>Version</dt>\n",
       "                <dd><code>v3.4.1</code></dd>\n",
       "              <dt>Master</dt>\n",
       "                <dd><code>local[*]</code></dd>\n",
       "              <dt>AppName</dt>\n",
       "                <dd><code>Spark OCR</code></dd>\n",
       "            </dl>\n",
       "        </div>\n",
       "        \n",
       "            </div>\n",
       "        "
      ],
      "text/plain": [
       "<pyspark.sql.session.SparkSession at 0x7eff93aae0d0>"
      ]
     },
     "execution_count": 3,
     "metadata": {},
     "output_type": "execute_result"
    }
   ],
   "source": [
    "from pyspark.sql import SparkSession\n",
    "from sparkocr import start\n",
    "\n",
    "if license:\n",
    "    os.environ['JSL_OCR_LICENSE'] = license\n",
    "\n",
    "spark = start(secret=secret, jar_path=spark_ocr_jar_path)\n",
    "spark"
   ]
  },
  {
   "cell_type": "markdown",
   "metadata": {},
   "source": [
    "## Import OCR transformers"
   ]
  },
  {
   "cell_type": "code",
   "execution_count": 4,
   "metadata": {},
   "outputs": [],
   "source": [
    "from sparkocr.transformers import *\n",
    "from pyspark.ml import PipelineModel"
   ]
  },
  {
   "cell_type": "markdown",
   "metadata": {},
   "source": [
    "## Define OCR transformers and pipeline"
   ]
  },
  {
   "cell_type": "code",
   "execution_count": 5,
   "metadata": {},
   "outputs": [],
   "source": [
    "def pipeline():\n",
    "    \n",
    "    # Transforrm PDF document to images per page\n",
    "    pdf_to_image = PdfToImage()\n",
    "    pdf_to_image.setInputCol(\"content\")\n",
    "    pdf_to_image.setOutputCol(\"image\")\n",
    "\n",
    "    # Run OCR\n",
    "    ocr = ImageToText()\n",
    "    ocr.setInputCol(\"image\")\n",
    "    ocr.setOutputCol(\"text\")\n",
    "    ocr.setConfidenceThreshold(65)\n",
    "    \n",
    "    pipeline = PipelineModel(stages=[\n",
    "        pdf_to_image,\n",
    "        ocr\n",
    "    ])\n",
    "    \n",
    "    return pipeline"
   ]
  },
  {
   "cell_type": "markdown",
   "metadata": {},
   "source": [
    "## Read PDF document as binary file"
   ]
  },
  {
   "cell_type": "code",
   "execution_count": 6,
   "metadata": {},
   "outputs": [],
   "source": [
    "import pkg_resources\n",
    "pdf_example = pkg_resources.resource_filename('sparkocr', 'resources/ocr/pdfs/test_document.pdf')\n",
    "pdf_example_df = spark.read.format(\"binaryFile\").load(pdf_example).cache()"
   ]
  },
  {
   "cell_type": "markdown",
   "metadata": {},
   "source": [
    "## Run OCR pipelines"
   ]
  },
  {
   "cell_type": "code",
   "execution_count": 7,
   "metadata": {},
   "outputs": [],
   "source": [
    "result = pipeline().transform(pdf_example_df).cache()"
   ]
  },
  {
   "cell_type": "markdown",
   "metadata": {},
   "source": [
    "## Display results"
   ]
  },
  {
   "cell_type": "code",
   "execution_count": 8,
   "metadata": {},
   "outputs": [
    {
     "name": "stdout",
     "output_type": "stream",
     "text": [
      "+-------+--------------------+-----------------+\n",
      "|pagenum|                text|       confidence|\n",
      "+-------+--------------------+-----------------+\n",
      "|      0|Patient Nam\\nFina...| 84.6904648674859|\n",
      "|      1|Patient Name\\nFin...|83.06709993802585|\n",
      "+-------+--------------------+-----------------+\n",
      "\n"
     ]
    }
   ],
   "source": [
    "result.select(\"pagenum\",\"text\", \"confidence\").show()"
   ]
  },
  {
   "cell_type": "markdown",
   "metadata": {},
   "source": [
    "### Display recognized text"
   ]
  },
  {
   "cell_type": "code",
   "execution_count": 9,
   "metadata": {},
   "outputs": [
    {
     "name": "stdout",
     "output_type": "stream",
     "text": [
      "Patient Nam\n",
      "Financial Numbe\n",
      "\n",
      "Random Hospital Date of Birth\n",
      "\n",
      "Patient Location\n",
      "\n",
      "  \n",
      "   \n",
      "\n",
      " \n",
      "\n",
      " \n",
      "\n",
      " \n",
      "\n",
      "Chief Complaint\n",
      "Shortness of breath\n",
      "\n",
      "History of Present Illness\n",
      "\n",
      " \n",
      "\n",
      "Patient is an 84-year-old male wilh a past medical history of hypertension, HFpEF last\n",
      "known EF 55%, mild to moderate TA, pulmonary hypertension, permanent atrial\n",
      "fibrillation on Eliquis, history of GI blesd, CK-IM8, and anemia who presents with full weeks\n",
      "oi ccncralized fatigue and fecling unwell. He also notes some shortness oi Breath and\n",
      "worsening dyspnea willy minimal exerlion. His major complaints are shoulder and joint\n",
      "pains. diffusely. He also complains of \"bone pain’. He denics having any fevers or crills.\n",
      "\n",
      "e demes having any chest pain, palpitalicns, He denies any worse extremity\n",
      "swelling than his baseline. He states he’s been compliant with his mcdications. Although\n",
      "he stales he ran out of his Eliquis @ few weeks ago. He denies having any blood in his\n",
      "Stools or mc!ena, although he does take iron pills and states his stools arc irequently black.\n",
      "His hemoglobin is al baseline.\n",
      "\n",
      "Twelve-lead EKG showing atrial fibrillation, RBBB, LAFB, PVC. Chest x-ray showing new\n",
      "small right creater than left pleural effusions with mild pulmonary vascular congestion. BNP\n",
      "increased to 2800, up fram 1900. Tropoain 0.03. Renal function at baseline. Hemoaglapin\n",
      "at baseline.\n",
      "\n",
      "She normally takes 80 mq of oral Lasix daily. He was given 80 mg of IV Lasix in the ED.\n",
      "He is currently net negative close to 1 L. He is still on 2 L nasal cannula.\n",
      "\n",
      "! Ss 5\n",
      "A 10 system roview af systems was completed and negative except as documented in HPI.\n",
      "\n",
      "Physical Exam\n",
      "\n",
      " \n",
      "\n",
      "Vitals & Measurements\n",
      "T: 36.8 °C (Oral) TMIN: 36.8 \"C (Oral) TMAX: 37.0 °C {Oral} HR: 54 RR: 7\n",
      "BP: 140/63 WT: 100.3 KG\n",
      "Pulse Ox: 100 % Oxygen: 2 Limin via Nasal Cannula\n",
      "GENERAL: no acute distress\n",
      "HEAD: normecephalic\n",
      "EYES‘EARS/‘NOSE/THAOAT: nupils are equal. normal oropharynx\n",
      "NECK: normal inspection\n",
      "RESPIRATORY: no respiratory distress, no rales on my exam\n",
      "CARDIOVASCULAR: irregular. brady. no murmurs, rubs or galleps\n",
      "ABDOMEN: soft, non-tendes\n",
      "EXTREMITIES: Bilateral chronic venous stasis changes\n",
      "NEUROLOGIC: alert and osieniec x 3. no gross motar or sensory deaficils\n",
      "\n",
      " \n",
      "\n",
      "Acute on chronic diastolic CHF (congestive heart failure)\n",
      "Acute on chronic diastolic heart failure exacerbation. Small pleural effusions dilaterally\n",
      "\n",
      "with mild pulmonary vascular congesiion on chest x-ray, slight elevation in BNR. We'll\n",
      "continue 1 more day af IV diuresis with &0 mg IV Lasix. He may have had a viral infection\n",
      "which precipilated this. We'll add Tylenol jor his joint paias. Continue atenclof and\n",
      "chiorthalidone.\n",
      "\n",
      "AF - Atrial fibrillation\n",
      "Permanent atrial fibrillation. Rates bradycardic in the &0s. Continue atenolol with hola\n",
      "\n",
      "parameters. Coniinue Eliquis for stroke prevention. No evidence oj bleeding, hemog'abin\n",
      "at baseline.\n",
      "\n",
      " \n",
      "\n",
      "Printed: 7/17/2017 13:07 EDT Page 16 of 42\n",
      "\n",
      " \n",
      "\n",
      "Arincitis\n",
      "\n",
      "CHF - Congestive heart failure\n",
      "\n",
      "Chronic kidney disease\n",
      "\n",
      "Chronic venous insufficiency\n",
      "\n",
      "Edema\n",
      "\n",
      "GI bleeding\n",
      "\n",
      "Glaucoma\n",
      "\n",
      "Goul\n",
      "\n",
      "Hypertension\n",
      "\n",
      "Peptic ulcer\n",
      "\n",
      "Peripheral ncuropathy\n",
      "\n",
      "Peripheral vascular disease\n",
      "\n",
      "Pulmonary hypertension\n",
      "\n",
      "Tricuspid regurgitation\n",
      "Historical\n",
      "\n",
      "No qualifying data\n",
      "\n",
      "Procedure/Surgical History\n",
      "\n",
      "duodenal resection, duodenojcjunostomy.\n",
      "small bowel enterolomy, removal of foreign\n",
      "object and repair oj enterotomy (05/2 1/20 14),\n",
      "colonoscopy (12/10/2013), egd (1209/2013),\n",
      "H/O endoscopy (07/2013), H’O colonoscopy\n",
      "(03/2013), pilonidal cyst removal at base of\n",
      "spine (1981), laser eye surgery ior glaucoma.\n",
      "lesions on small intestine closed up.\n",
      "\n",
      " \n",
      "\n",
      "Home Medications\n",
      "Home\n",
      "\n",
      "allopurinol 300 mg oral tablet, 300 MG= 1\n",
      "TAB, PO. Daily\n",
      "\n",
      "atenolol 25 mg oral iablel, 25 MG= 1 TAB,\n",
      "PO, Daily\n",
      "\n",
      "chtorthalidone 25 mg oral tablet, 25 MG=\n",
      "1 TAB, PO, MiWOF\n",
      "\n",
      "Combigan 0.2%-0.5% ophthalmic\n",
      "solution, 1 DROP, Both Eyes, Q12H\n",
      "\n",
      "Eliquis 5 mg oral lablet, 5 MG= 1 TAB,\n",
      "PO, BID\n",
      "\n",
      "lerrous sulfate 925 mg (65 nig elemental\n",
      "iron) oral tablet, 325 MG= 1 TAB, PO,\n",
      "\n",
      " \n",
      "\n",
      "Daily\n",
      "Lasix 80 mg oral tabic:. 80 MG= | TAB.\n",
      "PO, BID\n",
      "\n",
      "omeprazole 20 mg oral delayed scicasc\n",
      "capsule, 20 MG= 1 CAP, PO, BID\n",
      "\n",
      "Percocei 5/325 oral tablet. | TAB, PO.\n",
      "QAM\n",
      "\n",
      "potassium chloride 20 mEq oral tablet,\n",
      "extended release, 20 MEQO= 1 TAB, PO,\n",
      "Daily\n",
      "\n",
      "serlraline 50 mg oral tablet, 75 MG= 1,5\n",
      "TAB, PQ. Daiiy\n",
      "\n",
      "triamcinolone 0.71% lopical cream, 1 APP,\n",
      "Topical, Daily\n",
      "\n",
      "lriamcmolone 0.1% lopical ominient, 1\n",
      "APP. Topical, Daily\n",
      "\n",
      "PowerChart\n",
      "\n",
      "Patient Name\n",
      "Financial Number\n",
      "Date of Girth\n",
      "Patient Location\n",
      "\n",
      "Random Hospital\n",
      "\n",
      " \n",
      "\n",
      " \n",
      "\n",
      " \n",
      "\n",
      "H & P\n",
      "Anemia Vitamin D2 $0,000 intl units (1.25 ma) oral\n",
      "ALDASeIne capsule, 1 TAS, PO, V/eexly-Tue\n",
      "Arthritis\n",
      "Allergies\n",
      "\n",
      "Tylenol for pain. Patient also takes Percocet al home, will add this on.\n",
      "Chronic kidney disease\n",
      "AY baseline. Monitor while divresing.\n",
      "Hypertension\n",
      "Blood pressures within tolerable ranges.\n",
      "Pulmonary hypertension\n",
      "Tricuspid regurgitation\n",
      "ild-to-moderaie on echocardiogram last year\n",
      "\n",
      "sholliish (cout)\n",
      "sulfa drug (maculopapular rash)\n",
      "\n",
      " \n",
      "\n",
      "Social History\n",
      "\n",
      "Ever Smoked tobacco: Former Smoker\n",
      "Alcohol use - frequency; None\n",
      "\n",
      "Drug use: Never\n",
      "\n",
      "Lab Results\n",
      "07/10/77 05:30 to O7/16/17 05:30\n",
      "\n",
      " \n",
      "\n",
      "Attending physician note-the patient was interviewed and examined. The appropriatc\n",
      "information in power chart was reviewed. The patient was discussed wilh Dr, Persad. 143 1L 981H 26?\n",
      "Patient may have @ mild degree oj heart failure. He and his wife were morc concernee with a\n",
      "Ins peripheral edema. He has underlying renal insufficiency as well. We'll try to diurese\n",
      "him to his “dry\" weight. We will then try to adjust his medications to kcep him within a\n",
      "narrow range of [hat weight. We will stop his atenolol this point since he is relatively\n",
      "bradycardic anc observe his heart rate onthe cardiac monitor. He will progress with his\n",
      "care and aclivily as tolerated.\n",
      "\n",
      "102\n",
      "\n",
      "07/16/17 05:30 to O7/ 16/17 05:30\n",
      "\n",
      "fL 32.4 \\\n",
      "\n",
      "Printed: 7/1\n",
      "\n",
      "7/2017 13:01 EDT\n",
      "\n",
      "Page 17 of 42\n",
      "\n",
      "BMP\n",
      "\n",
      "GLU\n",
      "\n",
      "NA\n",
      "\n",
      "K\n",
      "\n",
      "CL\n",
      "\n",
      "TOTAL COZ\n",
      "BUN\n",
      "\n",
      "CRT\n",
      "\n",
      "ANION GAP\n",
      "CA\n",
      "\n",
      "CBC with diff\n",
      "\n",
      "WBC\n",
      "HGB\n",
      "HCT\n",
      "RBC\n",
      "MCV\n",
      "MICH\n",
      "MCHC\n",
      "RDW\n",
      "MPV\n",
      "\n",
      "07/16/17\n",
      "05:30\n",
      "\n",
      "102 mg/dL\n",
      "143 MMOL/L\n",
      "3.6 MMOL/L\n",
      "98 MMOL/L\n",
      "40 MMOL/L\n",
      "26 mg/dL.\n",
      "1.23 mg/dL\n",
      "5\n",
      "\n",
      "7.9maQ/dL\n",
      "07/16/17\n",
      "05:30\n",
      "\n",
      "3.4/ nl\n",
      "\n",
      "10.1 G/DL\n",
      "32.4 “Yo\n",
      "\n",
      "3.41 /PL\n",
      "95.0 FL\n",
      "29.6 pg\n",
      "31.2 %\n",
      "\n",
      "15,9 %o\n",
      "\n",
      "10.7 FL\n",
      "\n",
      "PowerChart\n",
      "\n"
     ]
    }
   ],
   "source": [
    "print(\"\\n\".join([row.text for row in result.select(\"text\").collect()]))"
   ]
  },
  {
   "cell_type": "markdown",
   "metadata": {},
   "source": [
    "## Clear cache"
   ]
  },
  {
   "cell_type": "code",
   "execution_count": 10,
   "metadata": {},
   "outputs": [
    {
     "data": {
      "text/html": [
       "<table border='1'>\n",
       "<tr><th>path</th><th>modificationTime</th><th>length</th><th>image</th><th>total_pages</th><th>pagenum</th><th>documentnum</th><th>confidence</th><th>exception</th><th>text</th><th>positions</th></tr>\n",
       "<tr><td>file:/home/jose/....</td><td>2025-08-24 22:54:...</td><td>693743</td><td>{file:/home/jose/...</td><td>2</td><td>0</td><td>0</td><td>84.6904648674859</td><td></td><td>Patient Nam\\nFina...</td><td>[{[{Patient Nam\\n...</td></tr>\n",
       "<tr><td>file:/home/jose/....</td><td>2025-08-24 22:54:...</td><td>693743</td><td>{file:/home/jose/...</td><td>2</td><td>1</td><td>0</td><td>83.06709993802585</td><td></td><td>Patient Name\\nFin...</td><td>[{[{Patient Name\\...</td></tr>\n",
       "</table>\n"
      ],
      "text/plain": [
       "+--------------------+--------------------+------+--------------------+-----------+-------+-----------+-----------------+---------+--------------------+--------------------+\n",
       "|                path|    modificationTime|length|               image|total_pages|pagenum|documentnum|       confidence|exception|                text|           positions|\n",
       "+--------------------+--------------------+------+--------------------+-----------+-------+-----------+-----------------+---------+--------------------+--------------------+\n",
       "|file:/home/jose/....|2025-08-24 22:54:...|693743|{file:/home/jose/...|          2|      0|          0| 84.6904648674859|         |Patient Nam\\nFina...|[{[{Patient Nam\\n...|\n",
       "|file:/home/jose/....|2025-08-24 22:54:...|693743|{file:/home/jose/...|          2|      1|          0|83.06709993802585|         |Patient Name\\nFin...|[{[{Patient Name\\...|\n",
       "+--------------------+--------------------+------+--------------------+-----------+-------+-----------+-----------------+---------+--------------------+--------------------+"
      ]
     },
     "execution_count": 10,
     "metadata": {},
     "output_type": "execute_result"
    }
   ],
   "source": [
    "result.unpersist(blocking=False)"
   ]
  },
  {
   "cell_type": "code",
   "execution_count": null,
   "metadata": {},
   "outputs": [],
   "source": []
  }
 ],
 "metadata": {
  "kernelspec": {
   "display_name": "Python 3 (ipykernel)",
   "language": "python",
   "name": "python3"
  },
  "language_info": {
   "codemirror_mode": {
    "name": "ipython",
    "version": 3
   },
   "file_extension": ".py",
   "mimetype": "text/x-python",
   "name": "python",
   "nbconvert_exporter": "python",
   "pygments_lexer": "ipython3",
   "version": "3.8.10"
  }
 },
 "nbformat": 4,
 "nbformat_minor": 4
}
