{
  "cells": [
    {
      "cell_type": "markdown",
      "id": "0407ece2-c2e8-4aa5-9720-637054f5cc9d",
      "metadata": {
        "id": "0407ece2-c2e8-4aa5-9720-637054f5cc9d"
      },
      "source": [
        "## Metadata deidentification of SVS files"
      ]
    },
    {
      "cell_type": "code",
      "source": [
        "secret = \"\"\n",
        "license = \"\"\n",
        "version = secret.split(\"-\")[0]\n",
        "spark_ocr_jar_path = \"../../target/scala-2.12\""
      ],
      "metadata": {
        "id": "H8VU-Cga5RId"
      },
      "id": "H8VU-Cga5RId",
      "execution_count": null,
      "outputs": []
    },
    {
      "cell_type": "markdown",
      "source": [
        "###Initialization of spark session\n"
      ],
      "metadata": {
        "id": "T6ysvYFj5UsP"
      },
      "id": "T6ysvYFj5UsP"
    },
    {
      "cell_type": "code",
      "source": [
        "import os\n",
        "from sparkocr import start\n",
        "\n",
        "spark = start(jar_path=\"./\",\n",
        "              nlp_secret=\"6.1.0-xyz\",\n",
        "              nlp_internal=True,\n",
        "              nlp_jsl=True,\n",
        "              nlp_version=\"6.1.1\",\n",
        "              use_gpu=False)\n",
        "\n",
        "spark"
      ],
      "metadata": {
        "id": "DGma-SXy5RAK"
      },
      "id": "DGma-SXy5RAK",
      "execution_count": null,
      "outputs": []
    },
    {
      "cell_type": "markdown",
      "source": [
        "###Removal of auxiliary images, like macro and label images, along with metadata."
      ],
      "metadata": {
        "id": "op9pUm0P6Cec"
      },
      "id": "op9pUm0P6Cec"
    },
    {
      "cell_type": "markdown",
      "source": [
        "Remove the auxiliary images and the metadata. For this, the svs.remove_phi() comes handy. Let's take a look at the documentation,"
      ],
      "metadata": {
        "id": "KkTfgkJ66IT0"
      },
      "id": "KkTfgkJ66IT0"
    },
    {
      "cell_type": "code",
      "execution_count": null,
      "id": "ade1e8ba-1ad6-443e-afd6-9478869c6c48",
      "metadata": {
        "id": "ade1e8ba-1ad6-443e-afd6-9478869c6c48",
        "outputId": "c6fe7a75-bf1f-421c-a78c-16d4e17c3925"
      },
      "outputs": [
        {
          "name": "stdout",
          "output_type": "stream",
          "text": [
            "Help on function remove_phi in module sparkocr.utils.svs.deidentifier:\n",
            "\n",
            "remove_phi(input, output, tags=['ImageDescription.Filename', 'ImageDescription.Date', 'ImageDescription.Time', 'ImageDescription.User'], append_tags=[], verbose=False)\n",
            "    Remove label images, macro images, and specified metadata from SVS files.\n",
            "    \n",
            "    This function processes SVS files to remove sensitive metadata and associated images. \n",
            "    By default, it removes specific metadata tags: \"ImageDescription.Filename\", \n",
            "    \"ImageDescription.Date\", \"ImageDescription.Time\", and \"ImageDescription.User\".\n",
            "    \n",
            "    Parameters:\n",
            "    - input (str): The file path or directory containing the SVS files to be de-identified.\n",
            "    - output (str): The file path or directory where the de-identified files will be saved.\n",
            "    - tags (list, optional): A list of metadata tags to remove, replacing the default tags if provided.\n",
            "    - append_tags (list, optional): Additional tags to remove, added to the defaults without overriding them.\n",
            "    - verbose (bool, optiona): whether to plot detailed logs or not.\n",
            "    \n",
            "    Returns:\n",
            "    - None\n",
            "\n"
          ]
        }
      ],
      "source": [
        "from sparkocr.utils.svs.phi_cleaning import remove_phi\n",
        "\n",
        "help(remove_phi)"
      ]
    },
    {
      "cell_type": "markdown",
      "id": "8218ac33-fb9e-41f3-9bda-c469c1a18c03",
      "metadata": {
        "id": "8218ac33-fb9e-41f3-9bda-c469c1a18c03"
      },
      "source": [
        "## Process a set of files"
      ]
    },
    {
      "cell_type": "code",
      "execution_count": null,
      "id": "bf5c0298-c7f0-4901-9d34-641a50be316a",
      "metadata": {
        "id": "bf5c0298-c7f0-4901-9d34-641a50be316a",
        "outputId": "96217a37-c28a-433c-b612-32a516e55c7d"
      },
      "outputs": [
        {
          "name": "stdout",
          "output_type": "stream",
          "text": [
            "de-identifying ./inputs/1620696.svs\n",
            "no need to clean: label\n",
            "no need to clean: macro\n",
            "cleaned tag field: ImageDescription.Filename\n",
            "cleaned tag field: ImageDescription.Date\n",
            "cleaned tag field: ImageDescription.Time\n",
            "cleaned tag field: ImageDescription.User\n",
            "cleaned tag field: ImageDescription.Filename\n",
            "cleaned tag field: ImageDescription.Date\n",
            "cleaned tag field: ImageDescription.Time\n",
            "cleaned tag field: ImageDescription.User\n",
            "cleaned tag field: ImageDescription.Filename\n",
            "cleaned tag field: ImageDescription.Date\n",
            "cleaned tag field: ImageDescription.Time\n",
            "cleaned tag field: ImageDescription.User\n",
            "cleaned tag field: ImageDescription.Filename\n",
            "cleaned tag field: ImageDescription.Date\n",
            "cleaned tag field: ImageDescription.Time\n",
            "cleaned tag field: ImageDescription.User\n",
            "Copied ./inputs/1620696.svs as ./outputs/1620696.svs\n",
            "de-identifying ./inputs/1620686.svs\n",
            "no need to clean: label\n",
            "no need to clean: macro\n",
            "cleaned tag field: ImageDescription.Filename\n",
            "cleaned tag field: ImageDescription.Date\n",
            "cleaned tag field: ImageDescription.Time\n",
            "cleaned tag field: ImageDescription.User\n",
            "cleaned tag field: ImageDescription.Filename\n",
            "cleaned tag field: ImageDescription.Date\n",
            "cleaned tag field: ImageDescription.Time\n",
            "cleaned tag field: ImageDescription.User\n",
            "cleaned tag field: ImageDescription.Filename\n",
            "cleaned tag field: ImageDescription.Date\n",
            "cleaned tag field: ImageDescription.Time\n",
            "cleaned tag field: ImageDescription.User\n",
            "cleaned tag field: ImageDescription.Filename\n",
            "cleaned tag field: ImageDescription.Date\n",
            "cleaned tag field: ImageDescription.Time\n",
            "cleaned tag field: ImageDescription.User\n",
            "Copied ./inputs/1620686.svs as ./outputs/1620686.svs\n",
            "de-identifying ./inputs/1620694.svs\n",
            "cleaned: label\n",
            "cleaned: macro\n",
            "cleaned tag field: ImageDescription.Filename\n",
            "cleaned tag field: ImageDescription.Date\n",
            "cleaned tag field: ImageDescription.Time\n",
            "cleaned tag field: ImageDescription.User\n",
            "cleaned tag field: ImageDescription.Filename\n",
            "cleaned tag field: ImageDescription.Date\n",
            "cleaned tag field: ImageDescription.Time\n",
            "cleaned tag field: ImageDescription.User\n",
            "cleaned tag field: ImageDescription.Filename\n",
            "cleaned tag field: ImageDescription.Date\n",
            "cleaned tag field: ImageDescription.Time\n",
            "cleaned tag field: ImageDescription.User\n",
            "cleaned tag field: ImageDescription.Filename\n",
            "cleaned tag field: ImageDescription.Date\n",
            "cleaned tag field: ImageDescription.Time\n",
            "cleaned tag field: ImageDescription.User\n",
            "Copied ./inputs/1620694.svs as ./outputs/1620694.svs\n"
          ]
        }
      ],
      "source": [
        "input_path = \"./data/svs/\"\n",
        "output_path = \"./outputs\"\n",
        "\n",
        "remove_phi(input_path, output_path, verbose=True)"
      ]
    },
    {
      "cell_type": "markdown",
      "source": [
        "###[optional] Tweaking additional parameters"
      ],
      "metadata": {
        "id": "8q_RtIWA6Yrl"
      },
      "id": "8q_RtIWA6Yrl"
    },
    {
      "cell_type": "markdown",
      "source": [
        "You can safely skip this if you are good with the set of metadata tags that were removed."
      ],
      "metadata": {
        "id": "t2dI5qJe6cSI"
      },
      "id": "t2dI5qJe6cSI"
    },
    {
      "cell_type": "code",
      "execution_count": null,
      "id": "805bcb80-6a36-4716-b8a3-9803449a69dc",
      "metadata": {
        "id": "805bcb80-6a36-4716-b8a3-9803449a69dc"
      },
      "outputs": [],
      "source": [
        "input_path = './data/svs/'\n",
        "output_path = \"svs_output\"\n",
        "\n",
        "remove_phi(input_path, output_path, verbose=True, append_tags=['ImageDescription.ScanScope ID', 'ImageDescription.Time Zone', 'ImageDescription.ScannerType'])"
      ]
    }
  ],
  "metadata": {
    "kernelspec": {
      "display_name": "Python 3 (ipykernel)",
      "language": "python",
      "name": "python3"
    },
    "language_info": {
      "codemirror_mode": {
        "name": "ipython",
        "version": 3
      },
      "file_extension": ".py",
      "mimetype": "text/x-python",
      "name": "python",
      "nbconvert_exporter": "python",
      "pygments_lexer": "ipython3",
      "version": "3.8.10"
    },
    "colab": {
      "provenance": []
    }
  },
  "nbformat": 4,
  "nbformat_minor": 5
}