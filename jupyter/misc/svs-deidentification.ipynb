{
 "cells": [
  {
   "cell_type": "markdown",
   "id": "0407ece2-c2e8-4aa5-9720-637054f5cc9d",
   "metadata": {},
   "source": [
    "## Deidentification of SVS files"
   ]
  },
  {
   "cell_type": "code",
   "execution_count": 1,
   "id": "ade1e8ba-1ad6-443e-afd6-9478869c6c48",
   "metadata": {},
   "outputs": [
    {
     "name": "stdout",
     "output_type": "stream",
     "text": [
      "Help on function remove_phi in module sparkocr.utils.svs.deidentifier:\n",
      "\n",
      "remove_phi(input, output, tags=['ImageDescription.Filename', 'ImageDescription.Date', 'ImageDescription.Time', 'ImageDescription.User'], append_tags=[], verbose=False)\n",
      "    Remove label images, macro images, and specified metadata from SVS files.\n",
      "    \n",
      "    This function processes SVS files to remove sensitive metadata and associated images. \n",
      "    By default, it removes specific metadata tags: \"ImageDescription.Filename\", \n",
      "    \"ImageDescription.Date\", \"ImageDescription.Time\", and \"ImageDescription.User\".\n",
      "    \n",
      "    Parameters:\n",
      "    - input (str): The file path or directory containing the SVS files to be de-identified.\n",
      "    - output (str): The file path or directory where the de-identified files will be saved.\n",
      "    - tags (list, optional): A list of metadata tags to remove, replacing the default tags if provided.\n",
      "    - append_tags (list, optional): Additional tags to remove, added to the defaults without overriding them.\n",
      "    - verbose (bool, optiona): whether to plot detailed logs or not.\n",
      "    \n",
      "    Returns:\n",
      "    - None\n",
      "\n"
     ]
    }
   ],
   "source": [
    "from sparkocr.utils.svs.deidentifier import remove_phi\n",
    "\n",
    "help(remove_phi)"
   ]
  },
  {
   "cell_type": "markdown",
   "id": "8218ac33-fb9e-41f3-9bda-c469c1a18c03",
   "metadata": {},
   "source": [
    "## Process a set of files"
   ]
  },
  {
   "cell_type": "code",
   "execution_count": 3,
   "id": "bf5c0298-c7f0-4901-9d34-641a50be316a",
   "metadata": {},
   "outputs": [
    {
     "name": "stdout",
     "output_type": "stream",
     "text": [
      "de-identifying ./inputs/1620696.svs\n",
      "no need to clean: label\n",
      "no need to clean: macro\n",
      "cleaned tag field: ImageDescription.Filename\n",
      "cleaned tag field: ImageDescription.Date\n",
      "cleaned tag field: ImageDescription.Time\n",
      "cleaned tag field: ImageDescription.User\n",
      "cleaned tag field: ImageDescription.Filename\n",
      "cleaned tag field: ImageDescription.Date\n",
      "cleaned tag field: ImageDescription.Time\n",
      "cleaned tag field: ImageDescription.User\n",
      "cleaned tag field: ImageDescription.Filename\n",
      "cleaned tag field: ImageDescription.Date\n",
      "cleaned tag field: ImageDescription.Time\n",
      "cleaned tag field: ImageDescription.User\n",
      "cleaned tag field: ImageDescription.Filename\n",
      "cleaned tag field: ImageDescription.Date\n",
      "cleaned tag field: ImageDescription.Time\n",
      "cleaned tag field: ImageDescription.User\n",
      "Copied ./inputs/1620696.svs as ./outputs/1620696.svs\n",
      "de-identifying ./inputs/1620686.svs\n",
      "no need to clean: label\n",
      "no need to clean: macro\n",
      "cleaned tag field: ImageDescription.Filename\n",
      "cleaned tag field: ImageDescription.Date\n",
      "cleaned tag field: ImageDescription.Time\n",
      "cleaned tag field: ImageDescription.User\n",
      "cleaned tag field: ImageDescription.Filename\n",
      "cleaned tag field: ImageDescription.Date\n",
      "cleaned tag field: ImageDescription.Time\n",
      "cleaned tag field: ImageDescription.User\n",
      "cleaned tag field: ImageDescription.Filename\n",
      "cleaned tag field: ImageDescription.Date\n",
      "cleaned tag field: ImageDescription.Time\n",
      "cleaned tag field: ImageDescription.User\n",
      "cleaned tag field: ImageDescription.Filename\n",
      "cleaned tag field: ImageDescription.Date\n",
      "cleaned tag field: ImageDescription.Time\n",
      "cleaned tag field: ImageDescription.User\n",
      "Copied ./inputs/1620686.svs as ./outputs/1620686.svs\n",
      "de-identifying ./inputs/1620694.svs\n",
      "cleaned: label\n",
      "cleaned: macro\n",
      "cleaned tag field: ImageDescription.Filename\n",
      "cleaned tag field: ImageDescription.Date\n",
      "cleaned tag field: ImageDescription.Time\n",
      "cleaned tag field: ImageDescription.User\n",
      "cleaned tag field: ImageDescription.Filename\n",
      "cleaned tag field: ImageDescription.Date\n",
      "cleaned tag field: ImageDescription.Time\n",
      "cleaned tag field: ImageDescription.User\n",
      "cleaned tag field: ImageDescription.Filename\n",
      "cleaned tag field: ImageDescription.Date\n",
      "cleaned tag field: ImageDescription.Time\n",
      "cleaned tag field: ImageDescription.User\n",
      "cleaned tag field: ImageDescription.Filename\n",
      "cleaned tag field: ImageDescription.Date\n",
      "cleaned tag field: ImageDescription.Time\n",
      "cleaned tag field: ImageDescription.User\n",
      "Copied ./inputs/1620694.svs as ./outputs/1620694.svs\n"
     ]
    }
   ],
   "source": [
    "input_path = \"./inputs\"\n",
    "output_path = \"./outputs\"\n",
    "\n",
    "\n",
    "remove_phi(input_path, output_path, verbose=True)"
   ]
  },
  {
   "cell_type": "code",
   "execution_count": null,
   "id": "805bcb80-6a36-4716-b8a3-9803449a69dc",
   "metadata": {},
   "outputs": [],
   "source": []
  }
 ],
 "metadata": {
  "kernelspec": {
   "display_name": "Python 3 (ipykernel)",
   "language": "python",
   "name": "python3"
  },
  "language_info": {
   "codemirror_mode": {
    "name": "ipython",
    "version": 3
   },
   "file_extension": ".py",
   "mimetype": "text/x-python",
   "name": "python",
   "nbconvert_exporter": "python",
   "pygments_lexer": "ipython3",
   "version": "3.8.10"
  }
 },
 "nbformat": 4,
 "nbformat_minor": 5
}
