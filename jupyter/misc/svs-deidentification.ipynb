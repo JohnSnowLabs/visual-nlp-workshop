{
 "cells": [
  {
   "cell_type": "markdown",
   "id": "0407ece2-c2e8-4aa5-9720-637054f5cc9d",
   "metadata": {
    "id": "0407ece2-c2e8-4aa5-9720-637054f5cc9d"
   },
   "source": [
    "## Metadata deidentification of SVS files"
   ]
  },
  {
   "cell_type": "markdown",
   "id": "op9pUm0P6Cec",
   "metadata": {
    "id": "op9pUm0P6Cec"
   },
   "source": [
    "### Removal of auxiliary images, like macro and label images, along with metadata."
   ]
  },
  {
   "cell_type": "markdown",
   "id": "KkTfgkJ66IT0",
   "metadata": {
    "id": "KkTfgkJ66IT0"
   },
   "source": [
    "Remove the auxiliary images and the metadata. For this, the svs.remove_phi() comes handy. Let's take a look at the documentation,"
   ]
  },
  {
   "cell_type": "code",
   "execution_count": 1,
   "id": "ade1e8ba-1ad6-443e-afd6-9478869c6c48",
   "metadata": {
    "colab": {
     "base_uri": "https://localhost:8080/"
    },
    "id": "ade1e8ba-1ad6-443e-afd6-9478869c6c48",
    "outputId": "46282057-ff9f-44b1-fde4-3d9bc92e5bd1"
   },
   "outputs": [
    {
     "name": "stdout",
     "output_type": "stream",
     "text": [
      "Help on function remove_phi in module sparkocr.utils.svs.phi_cleaning:\n",
      "\n",
      "remove_phi(input, output, tags=['ImageDescription.Filename', 'ImageDescription.Date', 'ImageDescription.Time', 'ImageDescription.User'], append_tags=[], rename=False, verbose=False)\n",
      "    Remove label images, macro images, and specified metadata from SVS files.\n",
      "\n",
      "    This function processes SVS files to remove sensitive metadata and associated images.\n",
      "    By default, it removes specific metadata tags: \"ImageDescription.Filename\",\n",
      "    \"ImageDescription.Date\", \"ImageDescription.Time\", and \"ImageDescription.User\".\n",
      "\n",
      "    Parameters:\n",
      "    - input (str): The file path or directory containing the SVS files to be de-identified.\n",
      "    - output (str): The file path or directory where the de-identified files will be saved.\n",
      "    - tags (list, optional): A list of metadata tags to remove, replacing the default tags if provided.\n",
      "    - append_tags (list, optional): Additional tags to remove, added to the defaults without overriding them.\n",
      "    - rename (bool, optional): whether to rename the output svs file. Default is False.\n",
      "    - verbose (bool, optional): whether to plot detailed logs or not. Default is False.\n",
      "\n",
      "    Returns:\n",
      "    - None\n",
      "\n"
     ]
    }
   ],
   "source": [
    "from sparkocr.utils.svs.phi_cleaning import remove_phi\n",
    "\n",
    "help(remove_phi)"
   ]
  },
  {
   "cell_type": "markdown",
   "id": "8218ac33-fb9e-41f3-9bda-c469c1a18c03",
   "metadata": {
    "id": "8218ac33-fb9e-41f3-9bda-c469c1a18c03"
   },
   "source": [
    "## Process a set of files"
   ]
  },
  {
   "cell_type": "code",
   "execution_count": 2,
   "id": "bf5c0298-c7f0-4901-9d34-641a50be316a",
   "metadata": {
    "colab": {
     "base_uri": "https://localhost:8080/"
    },
    "id": "bf5c0298-c7f0-4901-9d34-641a50be316a",
    "outputId": "ce704411-13db-4102-dd2b-d72095f97930",
    "scrolled": true
   },
   "outputs": [
    {
     "name": "stdout",
     "output_type": "stream",
     "text": [
      "de-identifying ../data/svs/62893.svs\n",
      "no need to clean: label\n",
      "no need to clean: macro\n",
      "cleaned tag field: ImageDescription.Filename\n",
      "cleaned tag field: ImageDescription.Date\n",
      "cleaned tag field: ImageDescription.Time\n",
      "cleaned tag field: ImageDescription.User\n",
      "cleaned tag field: ImageDescription.Filename\n",
      "cleaned tag field: ImageDescription.Date\n",
      "cleaned tag field: ImageDescription.Time\n",
      "cleaned tag field: ImageDescription.User\n",
      "Copied ../data/svs/62893.svs as ./outputs/62893.svs\n"
     ]
    }
   ],
   "source": [
    "input_path = \"../data/svs/\"\n",
    "output_path = \"./outputs\"\n",
    "\n",
    "remove_phi(input_path, output_path, verbose=True)"
   ]
  },
  {
   "cell_type": "markdown",
   "id": "8q_RtIWA6Yrl",
   "metadata": {
    "id": "8q_RtIWA6Yrl"
   },
   "source": [
    "### [optional] Tweaking additional parameters"
   ]
  },
  {
   "cell_type": "markdown",
   "id": "t2dI5qJe6cSI",
   "metadata": {
    "id": "t2dI5qJe6cSI"
   },
   "source": [
    "You can safely skip this if you are good with the set of metadata tags that were removed."
   ]
  },
  {
   "cell_type": "code",
   "execution_count": 3,
   "id": "805bcb80-6a36-4716-b8a3-9803449a69dc",
   "metadata": {
    "colab": {
     "base_uri": "https://localhost:8080/"
    },
    "id": "805bcb80-6a36-4716-b8a3-9803449a69dc",
    "outputId": "d40d64bb-a897-40b4-92f4-77c084e5a3a6"
   },
   "outputs": [
    {
     "name": "stdout",
     "output_type": "stream",
     "text": [
      "de-identifying ../data/svs/62893.svs\n",
      "no need to clean: label\n",
      "no need to clean: macro\n",
      "cleaned tag field: ImageDescription.Filename\n",
      "cleaned tag field: ImageDescription.Date\n",
      "cleaned tag field: ImageDescription.Time\n",
      "cleaned tag field: ImageDescription.User\n",
      "cleaned tag field: ImageDescription.ScanScope ID\n",
      "cleaned tag field: ImageDescription.Time Zone\n",
      "cleaned tag field: ImageDescription.ScannerType\n",
      "cleaned tag field: ImageDescription.Filename\n",
      "cleaned tag field: ImageDescription.Date\n",
      "cleaned tag field: ImageDescription.Time\n",
      "cleaned tag field: ImageDescription.User\n",
      "cleaned tag field: ImageDescription.ScanScope ID\n",
      "cleaned tag field: ImageDescription.Time Zone\n",
      "cleaned tag field: ImageDescription.ScannerType\n",
      "Copied ../data/svs/62893.svs as ./svs_output/62893.svs\n"
     ]
    }
   ],
   "source": [
    "input_path = '../data/svs/'\n",
    "output_path = \"./svs_output\"\n",
    "\n",
    "remove_phi(input_path, output_path, verbose=True, append_tags=['ImageDescription.ScanScope ID', 'ImageDescription.Time Zone', 'ImageDescription.ScannerType'])"
   ]
  },
  {
   "cell_type": "code",
   "execution_count": null,
   "id": "0ebabdd2-1165-4ef7-97d8-16f744066205",
   "metadata": {},
   "outputs": [],
   "source": []
  }
 ],
 "metadata": {
  "colab": {
   "provenance": []
  },
  "kernelspec": {
   "display_name": "Python 3 (ipykernel)",
   "language": "python",
   "name": "python3"
  },
  "language_info": {
   "codemirror_mode": {
    "name": "ipython",
    "version": 3
   },
   "file_extension": ".py",
   "mimetype": "text/x-python",
   "name": "python",
   "nbconvert_exporter": "python",
   "pygments_lexer": "ipython3",
   "version": "3.12.3"
  }
 },
 "nbformat": 4,
 "nbformat_minor": 5
}
