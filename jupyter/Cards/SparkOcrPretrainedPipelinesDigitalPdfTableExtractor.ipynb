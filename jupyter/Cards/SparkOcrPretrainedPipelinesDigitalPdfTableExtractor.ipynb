{
 "cells": [
  {
   "cell_type": "markdown",
   "source": [
    "![JohnSnowLabs](https://nlp.johnsnowlabs.com/assets/images/logo.png)"
   ],
   "metadata": {
    "id": "cw8TvgGpEueR"
   },
   "id": "cw8TvgGpEueR"
  },
  {
   "cell_type": "markdown",
   "source": [
    "[![Open In Colab](https://colab.research.google.com/assets/colab-badge.svg)](https://colab.research.google.com/github/JohnSnowLabs/spark-ocr-workshop/tree/master/jupyter/Cards/SparkOcrPretrainedPipelinesImageHandwrittenTransformerExtraction.ipynb)"
   ],
   "metadata": {
    "id": "ZDTrYiFMEvbc"
   },
   "id": "ZDTrYiFMEvbc"
  },
  {
   "cell_type": "markdown",
   "metadata": {
    "id": "lS_nUbuJKS-S"
   },
   "source": [
    "# Example of Pretrained Pipelines\n",
    "\n",
    "Pretrained Pipelines can be considered predefined recipes in the form of Visual NLP pipelines, these recipes come with a set of stages and parameters that help to accomplish specific tasks.\n",
    "\n",
    "## Blogposts and videos\n",
    "\n",
    "- [Text Detection in Spark OCR](https://medium.com/spark-nlp/text-detection-in-spark-ocr-dcd8002bdc97)\n",
    "\n",
    "- [Table Detection & Extraction in Spark OCR](https://medium.com/spark-nlp/table-detection-extraction-in-spark-ocr-50765c6cedc9)\n",
    "\n",
    "- [Extract Tabular Data from PDF in Spark OCR](https://medium.com/spark-nlp/extract-tabular-data-from-pdf-in-spark-ocr-b02136bc0fcb)\n",
    "\n",
    "- [Signature Detection in Spark OCR](https://medium.com/spark-nlp/signature-detection-in-spark-ocr-32f9e6f91e3c)\n",
    "\n",
    "- [GPU image pre-processing in Spark OCR](https://medium.com/spark-nlp/gpu-image-pre-processing-in-spark-ocr-3-1-0-6fc27560a9bb)\n",
    "\n",
    "- [How to Setup Spark OCR on UBUNTU - Video](https://www.youtube.com/watch?v=cmt4WIcL0nI)\n",
    "\n",
    "\n",
    "**More examples here**\n",
    "\n",
    "https://github.com/JohnSnowLabs/spark-ocr-workshop"
   ],
   "id": "lS_nUbuJKS-S"
  },
  {
   "cell_type": "markdown",
   "source": [
    "### Colab Setup"
   ],
   "metadata": {
    "id": "Zg7TmGnpEGiX"
   },
   "id": "Zg7TmGnpEGiX"
  },
  {
   "cell_type": "code",
   "metadata": {
    "colab": {
     "base_uri": "https://localhost:8080/",
     "height": 73
    },
    "executionInfo": {
     "elapsed": 11201,
     "status": "ok",
     "timestamp": 1723022203191,
     "user": {
      "displayName": "Aymane Chilah",
      "userId": "03881241080678771864"
     },
     "user_tz": -120
    },
    "id": "p-XWPpzsgAf_",
    "outputId": "c234de4c-c986-4bb1-a226-fdc4da95c775"
   },
   "source": [
    "import json, os\n",
    "import sys\n",
    "\n",
    "if 'google.colab' in sys.modules:\n",
    "    from google.colab import files\n",
    "\n",
    "    if 'spark_ocr.json' not in os.listdir():\n",
    "      license_keys = files.upload()\n",
    "      os.rename(list(license_keys.keys())[0], 'spark_ocr.json')\n",
    "\n",
    "with open('spark_ocr.json') as f:\n",
    "    license_keys = json.load(f)\n",
    "\n",
    "# Defining license key-value pairs as local variables\n",
    "locals().update(license_keys)"
   ],
   "id": "p-XWPpzsgAf_",
   "outputs": [],
   "execution_count": null
  },
  {
   "cell_type": "code",
   "metadata": {
    "colab": {
     "base_uri": "https://localhost:8080/",
     "height": 1000
    },
    "executionInfo": {
     "elapsed": 198390,
     "status": "ok",
     "timestamp": 1723022401577,
     "user": {
      "displayName": "Aymane Chilah",
      "userId": "03881241080678771864"
     },
     "user_tz": -120
    },
    "id": "8MNJwieTgEYq",
    "outputId": "f560e4b3-f30a-4d05-ac32-7976967a8030"
   },
   "source": [
    "!pip install transformers\n",
    "\n",
    "# Installing pyspark and spark-nlp\n",
    "%pip install --upgrade -q pyspark==3.2.1 spark-nlp==$PUBLIC_VERSION\n",
    "\n",
    "# Installing Spark OCR\n",
    "#! pip uninstall spark-ocr -Y\n",
    "%pip install spark-ocr==$OCR_VERSION --extra-index-url=https://pypi.johnsnowlabs.com/$SPARK_OCR_SECRET --upgrade"
   ],
   "id": "8MNJwieTgEYq",
   "outputs": [],
   "execution_count": null
  },
  {
   "cell_type": "markdown",
   "metadata": {
    "id": "2_pdaKeVNhPN"
   },
   "source": [
    "<b><h1><font color='darkred'>!!! ATTENTION !!! </font><h1><b>\n",
    "\n",
    "<b>After running previous cell, <font color='darkred'>RESTART the COLAB RUNTIME </font> and go ahead.<b>"
   ],
   "id": "2_pdaKeVNhPN"
  },
  {
   "cell_type": "markdown",
   "source": [
    "### Initialize Spark session"
   ],
   "metadata": {
    "id": "n8ObGKZJEKuY"
   },
   "id": "n8ObGKZJEKuY"
  },
  {
   "cell_type": "code",
   "execution_count": 1,
   "metadata": {
    "id": "fAA0ayIXgH6g",
    "executionInfo": {
     "status": "ok",
     "timestamp": 1723022667564,
     "user_tz": -120,
     "elapsed": 367,
     "user": {
      "displayName": "Aymane Chilah",
      "userId": "03881241080678771864"
     }
    }
   },
   "outputs": [],
   "source": [
    "import json, os\n",
    "\n",
    "with open(\"spark_ocr.json\", 'r') as f:\n",
    "  license_keys = json.load(f)\n",
    "\n",
    "# Adding license key-value pairs to environment variables\n",
    "os.environ.update(license_keys)\n",
    "\n",
    "# Defining license key-value pairs as local variables\n",
    "locals().update(license_keys)"
   ],
   "id": "fAA0ayIXgH6g"
  },
  {
   "cell_type": "code",
   "execution_count": 2,
   "metadata": {
    "id": "b2xXQVflgJzD",
    "executionInfo": {
     "status": "ok",
     "timestamp": 1723022675270,
     "user_tz": -120,
     "elapsed": 7465,
     "user": {
      "displayName": "Aymane Chilah",
      "userId": "03881241080678771864"
     }
    }
   },
   "outputs": [],
   "source": [
    "import pkg_resources\n",
    "\n",
    "from pyspark.ml import PipelineModel\n",
    "import pyspark.sql.functions as f\n",
    "\n",
    "from sparkocr import start\n",
    "from sparkocr.transformers import *\n",
    "from sparkocr.enums import *\n",
    "from sparkocr.utils import *\n",
    "from sparkocr.metrics import score"
   ],
   "id": "b2xXQVflgJzD"
  },
  {
   "cell_type": "code",
   "execution_count": 3,
   "metadata": {
    "executionInfo": {
     "elapsed": 67356,
     "status": "ok",
     "timestamp": 1723022742624,
     "user": {
      "displayName": "Aymane Chilah",
      "userId": "03881241080678771864"
     },
     "user_tz": -120
    },
    "id": "ijb1K7YWgLZs",
    "colab": {
     "base_uri": "https://localhost:8080/"
    },
    "outputId": "0767e93c-7062-4b1c-c5e4-bfac5cc9621c"
   },
   "outputs": [
    {
     "output_type": "stream",
     "name": "stdout",
     "text": [
      "Spark version: 3.2.1\n",
      "Spark NLP version: 5.4.0\n",
      "Spark OCR version: 5.4.0\n",
      "\n"
     ]
    }
   ],
   "source": [
    "# Start spark\n",
    "spark = start(secret=SPARK_OCR_SECRET, nlp_version=PUBLIC_VERSION)"
   ],
   "id": "ijb1K7YWgLZs"
  },
  {
   "cell_type": "markdown",
   "metadata": {
    "id": "t-XtrWSDKS-X"
   },
   "source": [
    "## Load Pretrained Pipelines\n"
   ],
   "id": "t-XtrWSDKS-X"
  },
  {
   "cell_type": "code",
   "execution_count": 4,
   "id": "aabc3a5f-435c-4c56-92c7-c04a12820d68",
   "metadata": {
    "id": "aabc3a5f-435c-4c56-92c7-c04a12820d68",
    "colab": {
     "base_uri": "https://localhost:8080/"
    },
    "executionInfo": {
     "status": "ok",
     "timestamp": 1723022772903,
     "user_tz": -120,
     "elapsed": 30282,
     "user": {
      "displayName": "Aymane Chilah",
      "userId": "03881241080678771864"
     }
    },
    "outputId": "4c981961-8105-48cf-d718-0fba7030a50a"
   },
   "outputs": [
    {
     "output_type": "stream",
     "name": "stdout",
     "text": [
      "digital_pdf_table_extractor download started this may take some time.\n",
      "Approx size to download 264.9 MB\n",
      "[OK!]\n"
     ]
    }
   ],
   "source": [
    "from sparknlp.pretrained import PretrainedPipeline\n",
    "\n",
    "pipeline = PretrainedPipeline('digital_pdf_table_extractor', 'en', 'clinical/ocr')"
   ]
  },
  {
   "cell_type": "markdown",
   "metadata": {
    "id": "RRlw0XvRKS-Y"
   },
   "source": [
    "## Call the pipeline"
   ],
   "id": "RRlw0XvRKS-Y"
  },
  {
   "cell_type": "code",
   "execution_count": 5,
   "id": "db97cde8-5855-4a1d-ad33-5e67522f95d3",
   "metadata": {
    "id": "db97cde8-5855-4a1d-ad33-5e67522f95d3",
    "executionInfo": {
     "status": "ok",
     "timestamp": 1723022846546,
     "user_tz": -120,
     "elapsed": 73653,
     "user": {
      "displayName": "Aymane Chilah",
      "userId": "03881241080678771864"
     }
    },
    "colab": {
     "base_uri": "https://localhost:8080/",
     "height": 121
    },
    "outputId": "2ff98960-edd5-4013-b471-4d1d92482c57"
   },
   "outputs": [
    {
     "output_type": "execute_result",
     "data": {
      "text/plain": [
       "+--------------------+--------------------+------+--------------------+----------------+---------------+-------+--------------------+-----------+-----------+-----------+--------------------+--------------------+---------+-----------+\n",
       "|                path|    modificationTime|length|                hocr|height_dimension|width_dimension|pagenum|               image|total_pages|tmp_pagenum|documentnum|       table_regions|              tables|exception|table_index|\n",
       "+--------------------+--------------------+------+--------------------+----------------+---------------+-------+--------------------+-----------+-----------+-----------+--------------------+--------------------+---------+-----------+\n",
       "|file:/content/Bio...|2024-08-07 09:24:...| 54028|<div title=\"bbox ...|             841|            595|      0|{file:/content/Bi...|          1|          0|          0|{0, 0, 54.70161, ...|{{-1, -1, 54.7016...|     null|          0|\n",
       "+--------------------+--------------------+------+--------------------+----------------+---------------+-------+--------------------+-----------+-----------+-----------+--------------------+--------------------+---------+-----------+"
      ],
      "text/html": [
       "<table border='1'>\n",
       "<tr><th>path</th><th>modificationTime</th><th>length</th><th>hocr</th><th>height_dimension</th><th>width_dimension</th><th>pagenum</th><th>image</th><th>total_pages</th><th>tmp_pagenum</th><th>documentnum</th><th>table_regions</th><th>tables</th><th>exception</th><th>table_index</th></tr>\n",
       "<tr><td>file:/content/Bio...</td><td>2024-08-07 09:24:...</td><td>54028</td><td>&lt;div title=&quot;bbox ...</td><td>841</td><td>595</td><td>0</td><td>{file:/content/Bi...</td><td>1</td><td>0</td><td>0</td><td>{0, 0, 54.70161, ...</td><td>{{-1, -1, 54.7016...</td><td>null</td><td>0</td></tr>\n",
       "</table>\n"
      ]
     },
     "metadata": {},
     "execution_count": 5
    }
   ],
   "source": [
    "pdf_path = '/content/BiomedPap_bio-202402-0013-3.pdf'\n",
    "pdf_example_df = spark.read.format(\"binaryFile\").load(pdf_path).cache()\n",
    "result = pipeline.transform(pdf_example_df)\n",
    "result"
   ]
  },
  {
   "cell_type": "code",
   "source": [
    "display_images(result, \"image\", width=1000)"
   ],
   "metadata": {
    "colab": {
     "base_uri": "https://localhost:8080/",
     "height": 1000,
     "output_embedded_package_id": "1VaWQ2nULJT8daXsCYGLzJ9iEbBCXQmJg"
    },
    "id": "-zGM8h_VZzk9",
    "executionInfo": {
     "status": "ok",
     "timestamp": 1723022875647,
     "user_tz": -120,
     "elapsed": 29104,
     "user": {
      "displayName": "Aymane Chilah",
      "userId": "03881241080678771864"
     }
    },
    "outputId": "d29471d5-f27c-4b13-fbb2-d350e96c04cb"
   },
   "id": "-zGM8h_VZzk9",
   "execution_count": 6,
   "outputs": [
    {
     "output_type": "display_data",
     "data": {
      "text/plain": "Output hidden; open in https://colab.research.google.com to view."
     },
     "metadata": {}
    }
   ]
  },
  {
   "cell_type": "code",
   "source": [
    "display_tables(result, table_col = \"tables\", table_index_col = \"table_index\")"
   ],
   "metadata": {
    "colab": {
     "base_uri": "https://localhost:8080/",
     "height": 346
    },
    "id": "speA0VtXaPE4",
    "executionInfo": {
     "status": "ok",
     "timestamp": 1723022900503,
     "user_tz": -120,
     "elapsed": 24858,
     "user": {
      "displayName": "Aymane Chilah",
      "userId": "03881241080678771864"
     }
    },
    "outputId": "0c28d27d-12f8-4609-f6f7-b16b467b1eae"
   },
   "id": "speA0VtXaPE4",
   "execution_count": 7,
   "outputs": [
    {
     "output_type": "stream",
     "name": "stdout",
     "text": [
      "Filename: BiomedPap_bio-202402-0013-3.pdf\n",
      "Page: 0\n",
      "Table: 0\n",
      "Number of Columns: 3\n"
     ]
    },
    {
     "output_type": "display_data",
     "data": {
      "text/plain": [
       "<IPython.core.display.HTML object>"
      ],
      "text/html": [
       "<table><tr><th>col0</th><th>col1</th><th>col2</th></tr><tr><td>Empty</td><td>cTnI ( ng / L ) ( Architect , Abbott )</td><td>cTnT ( ng / L ) ( Cobas , Roche )</td></tr><tr><td>Case 1</td><td>Empty</td><td>Empty</td></tr><tr><td>First sample ( before hospitalisation )</td><td>1782</td><td>7</td></tr><tr><td>Samples during hospitalisation</td><td>1741 , 3520 and 3622</td><td>34 ( after coronary angiography )</td></tr><tr><td>After hospitalisation  </td><td>395 ( 3 years after hospitalisation ) 360 ( 4 years after hospitalisation ) 536 ( 5 years after hospitalisation )</td><td>  </td></tr><tr><td>Case 2</td><td>Empty</td><td>Empty</td></tr><tr><td>June 25</td><td>107</td><td>–</td></tr><tr><td>July 2</td><td>835</td><td>–</td></tr><tr><td>July 28</td><td>–</td><td>8</td></tr><tr><td>August 25</td><td>439</td><td>Empty</td></tr><tr><td>October 21</td><td>96</td><td>6</td></tr></table>"
      ]
     },
     "metadata": {}
    }
   ]
  }
 ],
 "metadata": {
  "kernelspec": {
   "display_name": "Python 3 (ipykernel)",
   "language": "python",
   "name": "python3"
  },
  "language_info": {
   "codemirror_mode": {
    "name": "ipython",
    "version": 3
   },
   "file_extension": ".py",
   "mimetype": "text/x-python",
   "name": "python",
   "nbconvert_exporter": "python",
   "pygments_lexer": "ipython3",
   "version": "3.7.16"
  },
  "colab": {
   "provenance": []
  }
 },
 "nbformat": 4,
 "nbformat_minor": 5
}
